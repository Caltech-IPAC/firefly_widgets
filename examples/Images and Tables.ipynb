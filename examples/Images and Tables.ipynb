{
 "cells": [
  {
   "cell_type": "markdown",
   "metadata": {},
   "source": [
    "The following line is needed to load the Firefly Javascript API into the DOM. The url can be changed to a remote instance, of course."
   ]
  },
  {
   "cell_type": "code",
   "execution_count": 1,
   "metadata": {},
   "outputs": [
    {
     "data": {
      "text/html": [
       "<script src=\"http://localhost:8080/firefly/firefly_loader.js\"></script>"
      ],
      "text/plain": [
       "<IPython.core.display.HTML object>"
      ]
     },
     "metadata": {},
     "output_type": "display_data"
    }
   ],
   "source": [
    "from firefly_widgets import connect\n",
    "connect('http://localhost:8080')"
   ]
  },
  {
   "cell_type": "markdown",
   "metadata": {},
   "source": [
    "The installation should have installed a recent version of ipywidgets."
   ]
  },
  {
   "cell_type": "code",
   "execution_count": 2,
   "metadata": {},
   "outputs": [
    {
     "data": {
      "text/plain": [
       "'6.0.0'"
      ]
     },
     "execution_count": 2,
     "metadata": {},
     "output_type": "execute_result"
    }
   ],
   "source": [
    "import ipywidgets\n",
    "ipywidgets.__version__"
   ]
  },
  {
   "cell_type": "code",
   "execution_count": 3,
   "metadata": {
    "collapsed": true
   },
   "outputs": [],
   "source": [
    "from firefly_widgets import ImageViewer"
   ]
  },
  {
   "cell_type": "markdown",
   "metadata": {},
   "source": [
    "Currently the image viewer queries a service for 2MASS images by default."
   ]
  },
  {
   "cell_type": "code",
   "execution_count": 4,
   "metadata": {
    "collapsed": true
   },
   "outputs": [],
   "source": [
    "iv = ImageViewer(WorldPt='10.68479;43.26906;EQ_J2000',\n",
    "                 layout=ipywidgets.Layout(width='400px',height='400px'), GridOn=False)"
   ]
  },
  {
   "cell_type": "code",
   "execution_count": 5,
   "metadata": {},
   "outputs": [
    {
     "data": {
      "application/vnd.jupyter.widget-view+json": {
       "model_id": "c5b8f13e3e55457ea495ebdb99564b5b"
      }
     },
     "metadata": {},
     "output_type": "display_data"
    }
   ],
   "source": [
    "iv"
   ]
  },
  {
   "cell_type": "markdown",
   "metadata": {},
   "source": [
    "Turn on the coordinate grid."
   ]
  },
  {
   "cell_type": "code",
   "execution_count": 6,
   "metadata": {
    "collapsed": true
   },
   "outputs": [],
   "source": [
    "iv.GridOn = True"
   ]
  },
  {
   "cell_type": "markdown",
   "metadata": {},
   "source": [
    "Change the band to H"
   ]
  },
  {
   "cell_type": "code",
   "execution_count": 7,
   "metadata": {
    "collapsed": true
   },
   "outputs": [],
   "source": [
    "iv.SurveyKey = 'h'"
   ]
  },
  {
   "cell_type": "markdown",
   "metadata": {},
   "source": [
    "Change the colorbar / colormap"
   ]
  },
  {
   "cell_type": "code",
   "execution_count": 8,
   "metadata": {
    "collapsed": true
   },
   "outputs": [],
   "source": [
    "iv.colorbar = 15"
   ]
  },
  {
   "cell_type": "code",
   "execution_count": 9,
   "metadata": {},
   "outputs": [
    {
     "data": {
      "text/plain": [
       "15"
      ]
     },
     "execution_count": 9,
     "metadata": {},
     "output_type": "execute_result"
    }
   ],
   "source": [
    "iv.colorbar"
   ]
  },
  {
   "cell_type": "code",
   "execution_count": 10,
   "metadata": {
    "collapsed": true
   },
   "outputs": [],
   "source": [
    "from firefly_widgets import TableViewer"
   ]
  },
  {
   "cell_type": "code",
   "execution_count": 26,
   "metadata": {
    "collapsed": true
   },
   "outputs": [],
   "source": [
    "tv = TableViewer(position='10.68479;43.26906;EQ_J2000',\n",
    "                layout = ipywidgets.Layout(width='80%', height='400px'))"
   ]
  },
  {
   "cell_type": "code",
   "execution_count": 27,
   "metadata": {},
   "outputs": [
    {
     "data": {
      "application/vnd.jupyter.widget-view+json": {
       "model_id": "8e25d1bcb58e40ad8e3ce9cfb0ebfcd5"
      }
     },
     "metadata": {},
     "output_type": "display_data"
    }
   ],
   "source": [
    "tv"
   ]
  },
  {
   "cell_type": "code",
   "execution_count": 13,
   "metadata": {},
   "outputs": [
    {
     "data": {
      "text/plain": [
       "''"
      ]
     },
     "execution_count": 13,
     "metadata": {},
     "output_type": "execute_result"
    }
   ],
   "source": [
    "tv.filters"
   ]
  },
  {
   "cell_type": "code",
   "execution_count": 14,
   "metadata": {
    "collapsed": true
   },
   "outputs": [],
   "source": [
    "tv.filters = 'dec > 41.26'\n",
    "tv.pageSize = 15"
   ]
  },
  {
   "cell_type": "markdown",
   "metadata": {},
   "source": [
    "Allow some delay for the table to load and filters to be applied, before executing the next line."
   ]
  },
  {
   "cell_type": "code",
   "execution_count": 15,
   "metadata": {
    "collapsed": true
   },
   "outputs": [],
   "source": [
    "mytable = tv.selection()"
   ]
  },
  {
   "cell_type": "code",
   "execution_count": 16,
   "metadata": {},
   "outputs": [
    {
     "data": {
      "text/html": [
       "&lt;Table masked=True length=406&gt;\n",
       "<table id=\"table4590143752\" class=\"table-striped table-bordered table-condensed\">\n",
       "<thead><tr><th>designation</th><th>ra</th><th>dec</th><th>clon</th><th>clat</th><th>sigra</th><th>sigdec</th><th>sigradec</th><th>w1mpro</th><th>w1sigmpro</th><th>w1snr</th><th>w1rchi2</th><th>w2mpro</th><th>w2sigmpro</th><th>w2snr</th><th>w2rchi2</th><th>w3mpro</th><th>w3sigmpro</th><th>w3snr</th><th>w3rchi2</th><th>w4mpro</th><th>w4sigmpro</th><th>w4snr</th><th>w4rchi2</th><th>nb</th><th>na</th><th>w1sat</th><th>w2sat</th><th>w3sat</th><th>w4sat</th><th>pmra</th><th>sigpmra</th><th>pmdec</th><th>sigpmdec</th><th>cc_flags</th><th>ext_flg</th><th>var_flg</th><th>ph_qual</th><th>moon_lev</th><th>w1nm</th><th>w1m</th><th>w2nm</th><th>w2m</th><th>w3nm</th><th>w3m</th><th>w4nm</th><th>w4m</th><th>dist</th><th>angle</th></tr></thead>\n",
       "<thead><tr><th></th><th>deg</th><th>deg</th><th></th><th></th><th>arcsec</th><th>arcsec</th><th>arcsec</th><th>mag</th><th>mag</th><th></th><th></th><th>mag</th><th>mag</th><th></th><th></th><th>mag</th><th>mag</th><th></th><th></th><th>mag</th><th>mag</th><th></th><th></th><th></th><th></th><th></th><th></th><th></th><th></th><th>maspyr</th><th>maspyr</th><th>maspyr</th><th>maspyr</th><th></th><th></th><th></th><th></th><th></th><th></th><th></th><th></th><th></th><th></th><th></th><th></th><th></th><th>arcsec</th><th>deg</th></tr></thead>\n",
       "<thead><tr><th>str19</th><th>float64</th><th>float64</th><th>str12</th><th>str12</th><th>float64</th><th>float64</th><th>float64</th><th>float64</th><th>float64</th><th>float64</th><th>float64</th><th>float64</th><th>float64</th><th>float64</th><th>float64</th><th>float64</th><th>float64</th><th>float64</th><th>float64</th><th>float64</th><th>float64</th><th>float64</th><th>float64</th><th>int64</th><th>int64</th><th>float64</th><th>float64</th><th>float64</th><th>float64</th><th>int64</th><th>int64</th><th>int64</th><th>int64</th><th>str4</th><th>int64</th><th>str4</th><th>str4</th><th>str4</th><th>int64</th><th>int64</th><th>int64</th><th>int64</th><th>int64</th><th>int64</th><th>int64</th><th>int64</th><th>float64</th><th>float64</th></tr></thead>\n",
       "<tr><td>J004257.35+431858.6</td><td>10.7389712</td><td>43.3162987</td><td>00h42m57.35s</td><td>43d18m58.68s</td><td>0.265</td><td>0.2622</td><td>-0.0769</td><td>16.77</td><td>0.083</td><td>13.0</td><td>0.9547</td><td>17.373</td><td>--</td><td>-0.3</td><td>0.9446</td><td>12.832</td><td>--</td><td>0.3</td><td>1.047</td><td>8.929</td><td>--</td><td>0.9</td><td>1.074</td><td>1</td><td>0</td><td>0.0</td><td>0.0</td><td>0.0</td><td>0.0</td><td>-320</td><td>731</td><td>-1287</td><td>728</td><td>0000</td><td>0</td><td>nnnn</td><td>AUUU</td><td>0000</td><td>10</td><td>31</td><td>0</td><td>31</td><td>0</td><td>23</td><td>0</td><td>23</td><td>221.530791</td><td>39.837615</td></tr>\n",
       "<tr><td>J004238.98+431439.6</td><td>10.6624404</td><td>43.2443597</td><td>00h42m38.99s</td><td>43d14m39.69s</td><td>0.0827</td><td>0.0805</td><td>-0.0194</td><td>15.017</td><td>0.032</td><td>33.9</td><td>0.9328</td><td>15.14</td><td>0.078</td><td>13.9</td><td>0.8852</td><td>12.876</td><td>--</td><td>-0.5</td><td>1.0</td><td>9.215</td><td>--</td><td>-1.2</td><td>0.8808</td><td>1</td><td>0</td><td>0.0</td><td>0.0</td><td>0.0</td><td>0.0</td><td>349</td><td>159</td><td>-165</td><td>158</td><td>0000</td><td>0</td><td>01nn</td><td>AAUU</td><td>0000</td><td>29</td><td>29</td><td>15</td><td>29</td><td>0</td><td>21</td><td>0</td><td>22</td><td>106.492219</td><td>213.391746</td></tr>\n",
       "<tr><td>J004240.16+431339.6</td><td>10.6673352</td><td>43.2276844</td><td>00h42m40.16s</td><td>43d13m39.66s</td><td>0.1042</td><td>0.102</td><td>-0.0245</td><td>15.401</td><td>0.039</td><td>28.1</td><td>0.9111</td><td>15.466</td><td>0.101</td><td>10.7</td><td>0.9459</td><td>12.839</td><td>--</td><td>0.1</td><td>0.9973</td><td>9.376</td><td>--</td><td>-0.1</td><td>0.9427</td><td>1</td><td>0</td><td>0.0</td><td>0.0</td><td>0.0</td><td>0.0</td><td>-215</td><td>213</td><td>50</td><td>210</td><td>0000</td><td>0</td><td>0nnn</td><td>AAUU</td><td>0000</td><td>29</td><td>29</td><td>5</td><td>28</td><td>0</td><td>22</td><td>0</td><td>22</td><td>155.825689</td><td>197.087145</td></tr>\n",
       "<tr><td>J004232.69+431546.9</td><td>10.6362297</td><td>43.2630482</td><td>00h42m32.70s</td><td>43d15m46.97s</td><td>0.133</td><td>0.1305</td><td>-0.035</td><td>15.838</td><td>0.047</td><td>23.2</td><td>1.021</td><td>15.7</td><td>0.13</td><td>8.3</td><td>0.8672</td><td>12.311</td><td>--</td><td>1.6</td><td>0.9968</td><td>9.189</td><td>--</td><td>0.2</td><td>0.9759</td><td>1</td><td>0</td><td>0.0</td><td>0.0</td><td>0.0</td><td>0.0</td><td>-224</td><td>319</td><td>-107</td><td>310</td><td>0000</td><td>0</td><td>0nnn</td><td>ABUU</td><td>0000</td><td>26</td><td>28</td><td>3</td><td>28</td><td>0</td><td>21</td><td>0</td><td>21</td><td>129.124775</td><td>260.367809</td></tr>\n",
       "<tr><td>J004234.13+431233.9</td><td>10.6422152</td><td>43.2094264</td><td>00h42m34.13s</td><td>43d12m33.94s</td><td>0.4526</td><td>0.4517</td><td>-0.1369</td><td>17.422</td><td>0.148</td><td>7.3</td><td>0.9224</td><td>17.142</td><td>0.441</td><td>2.5</td><td>0.8776</td><td>12.961</td><td>--</td><td>-0.5</td><td>0.905</td><td>9.185</td><td>--</td><td>0.3</td><td>0.9295</td><td>1</td><td>0</td><td>0.0</td><td>0.0</td><td>0.0</td><td>0.0</td><td>57</td><td>1349</td><td>1572</td><td>1371</td><td>0000</td><td>0</td><td>nnnn</td><td>BCUU</td><td>0000</td><td>4</td><td>30</td><td>0</td><td>30</td><td>0</td><td>22</td><td>1</td><td>22</td><td>241.981628</td><td>207.493745</td></tr>\n",
       "<tr><td>J004230.18+431830.4</td><td>10.6257535</td><td>43.308471</td><td>00h42m30.18s</td><td>43d18m30.50s</td><td>0.2574</td><td>0.2535</td><td>-0.0736</td><td>16.725</td><td>0.084</td><td>12.9</td><td>0.9051</td><td>16.881</td><td>0.339</td><td>3.2</td><td>0.8245</td><td>12.242</td><td>--</td><td>1.6</td><td>0.878</td><td>9.291</td><td>--</td><td>-0.1</td><td>1.019</td><td>1</td><td>0</td><td>0.0</td><td>0.0</td><td>0.0</td><td>0.0</td><td>146</td><td>737</td><td>126</td><td>717</td><td>0000</td><td>0</td><td>0nnn</td><td>ABUU</td><td>0000</td><td>16</td><td>32</td><td>0</td><td>32</td><td>0</td><td>25</td><td>0</td><td>25</td><td>209.911596</td><td>312.544444</td></tr>\n",
       "<tr><td>J004246.93+431619.6</td><td>10.6955469</td><td>43.2721372</td><td>00h42m46.93s</td><td>43d16m19.69s</td><td>0.5669</td><td>0.56</td><td>-0.1775</td><td>17.662</td><td>0.177</td><td>6.1</td><td>0.9252</td><td>17.469</td><td>--</td><td>-0.3</td><td>0.9693</td><td>12.75</td><td>--</td><td>0.5</td><td>1.039</td><td>8.673</td><td>--</td><td>1.0</td><td>0.937</td><td>1</td><td>0</td><td>0.0</td><td>0.0</td><td>0.0</td><td>0.0</td><td>679</td><td>1723</td><td>-475</td><td>1701</td><td>0000</td><td>0</td><td>nnnn</td><td>BUUU</td><td>0000</td><td>2</td><td>31</td><td>0</td><td>31</td><td>0</td><td>23</td><td>0</td><td>23</td><td>30.29461</td><td>68.547309</td></tr>\n",
       "<tr><td>J004259.38+431313.3</td><td>10.7474546</td><td>43.2203709</td><td>00h42m59.39s</td><td>43d13m13.34s</td><td>0.5842</td><td>0.5846</td><td>-0.1706</td><td>17.75</td><td>0.186</td><td>5.8</td><td>0.9651</td><td>17.499</td><td>--</td><td>-0.2</td><td>0.8503</td><td>12.388</td><td>--</td><td>1.3</td><td>0.8592</td><td>9.177</td><td>--</td><td>0.6</td><td>0.8957</td><td>1</td><td>0</td><td>0.0</td><td>0.0</td><td>0.0</td><td>0.0</td><td>-1037</td><td>1768</td><td>-1433</td><td>1764</td><td>0000</td><td>0</td><td>nnnn</td><td>BUUU</td><td>0000</td><td>4</td><td>34</td><td>0</td><td>34</td><td>1</td><td>24</td><td>0</td><td>24</td><td>240.265406</td><td>136.825511</td></tr>\n",
       "<tr><td>J004241.48+431639.5</td><td>10.6728514</td><td>43.2776567</td><td>00h42m41.48s</td><td>43d16m39.56s</td><td>0.0999</td><td>0.0972</td><td>-0.0219</td><td>15.414</td><td>0.038</td><td>28.7</td><td>1.055</td><td>15.02</td><td>0.074</td><td>14.7</td><td>0.9156</td><td>12.388</td><td>--</td><td>1.3</td><td>0.919</td><td>8.745</td><td>--</td><td>0.9</td><td>0.9189</td><td>1</td><td>0</td><td>0.0</td><td>0.0</td><td>0.0</td><td>0.0</td><td>-267</td><td>204</td><td>240</td><td>200</td><td>0000</td><td>0</td><td>01nn</td><td>AAUU</td><td>0000</td><td>30</td><td>30</td><td>17</td><td>30</td><td>0</td><td>22</td><td>0</td><td>22</td><td>44.011522</td><td>314.686966</td></tr>\n",
       "<tr><td>...</td><td>...</td><td>...</td><td>...</td><td>...</td><td>...</td><td>...</td><td>...</td><td>...</td><td>...</td><td>...</td><td>...</td><td>...</td><td>...</td><td>...</td><td>...</td><td>...</td><td>...</td><td>...</td><td>...</td><td>...</td><td>...</td><td>...</td><td>...</td><td>...</td><td>...</td><td>...</td><td>...</td><td>...</td><td>...</td><td>...</td><td>...</td><td>...</td><td>...</td><td>...</td><td>...</td><td>...</td><td>...</td><td>...</td><td>...</td><td>...</td><td>...</td><td>...</td><td>...</td><td>...</td><td>...</td><td>...</td><td>...</td><td>...</td></tr>\n",
       "<tr><td>J004249.92+431809.8</td><td>10.7080002</td><td>43.3027403</td><td>00h42m49.92s</td><td>43d18m09.87s</td><td>0.4103</td><td>0.4059</td><td>-0.1134</td><td>17.336</td><td>0.129</td><td>8.4</td><td>1.007</td><td>16.952</td><td>--</td><td>1.2</td><td>0.9053</td><td>13.017</td><td>--</td><td>0.0</td><td>1.018</td><td>9.0</td><td>--</td><td>0.8</td><td>0.9002</td><td>1</td><td>0</td><td>0.0</td><td>0.0</td><td>0.0</td><td>0.002</td><td>620</td><td>1286</td><td>705</td><td>1269</td><td>0000</td><td>0</td><td>nnnn</td><td>BUUU</td><td>0000</td><td>3</td><td>32</td><td>0</td><td>32</td><td>0</td><td>24</td><td>0</td><td>24</td><td>135.650091</td><td>26.632601</td></tr>\n",
       "<tr><td>J004222.86+431421.0</td><td>10.5952656</td><td>43.2391819</td><td>00h42m22.86s</td><td>43d14m21.05s</td><td>0.0744</td><td>0.0662</td><td>-0.013</td><td>14.199</td><td>0.03</td><td>36.3</td><td>1.838</td><td>14.243</td><td>0.049</td><td>22.3</td><td>0.9577</td><td>12.645</td><td>--</td><td>0.4</td><td>0.924</td><td>8.921</td><td>--</td><td>0.5</td><td>0.9699</td><td>2</td><td>1</td><td>0.0</td><td>0.0</td><td>0.0</td><td>0.0</td><td>--</td><td>--</td><td>--</td><td>--</td><td>0000</td><td>0</td><td>nnnn</td><td>AAUU</td><td>0000</td><td>29</td><td>29</td><td>29</td><td>29</td><td>0</td><td>22</td><td>1</td><td>22</td><td>258.199926</td><td>245.411766</td></tr>\n",
       "<tr><td>J004240.71+431823.9</td><td>10.6696543</td><td>43.3066571</td><td>00h42m40.72s</td><td>43d18m23.97s</td><td>0.1454</td><td>0.1449</td><td>-0.0439</td><td>16.024</td><td>0.051</td><td>21.3</td><td>0.9508</td><td>15.9</td><td>0.145</td><td>7.5</td><td>0.9078</td><td>12.903</td><td>--</td><td>-0.7</td><td>0.9416</td><td>9.303</td><td>--</td><td>-0.7</td><td>1.03</td><td>1</td><td>0</td><td>0.0</td><td>0.0</td><td>0.0</td><td>0.0</td><td>69</td><td>352</td><td>-46</td><td>356</td><td>0000</td><td>0</td><td>0nnn</td><td>ABUU</td><td>0000</td><td>29</td><td>32</td><td>3</td><td>32</td><td>0</td><td>24</td><td>0</td><td>24</td><td>141.04138</td><td>343.67236</td></tr>\n",
       "<tr><td>J004229.32+431923.4</td><td>10.6221865</td><td>43.3231852</td><td>00h42m29.32s</td><td>43d19m23.47s</td><td>0.2455</td><td>0.2424</td><td>-0.0648</td><td>16.711</td><td>0.08</td><td>13.5</td><td>0.9365</td><td>17.17</td><td>0.439</td><td>2.5</td><td>0.9124</td><td>12.87</td><td>--</td><td>-2.1</td><td>1.013</td><td>9.435</td><td>--</td><td>-0.6</td><td>1.1</td><td>1</td><td>0</td><td>0.0</td><td>0.0</td><td>0.0</td><td>0.0</td><td>-225</td><td>710</td><td>-739</td><td>700</td><td>0000</td><td>0</td><td>nnnn</td><td>ACUU</td><td>0000</td><td>10</td><td>33</td><td>0</td><td>33</td><td>0</td><td>26</td><td>0</td><td>26</td><td>254.701391</td><td>319.929901</td></tr>\n",
       "<tr><td>J004251.00+431122.5</td><td>10.7125013</td><td>43.1896102</td><td>00h42m51.00s</td><td>43d11m22.60s</td><td>0.0399</td><td>0.038</td><td>0.01</td><td>11.746</td><td>0.022</td><td>48.7</td><td>2.507</td><td>11.813</td><td>0.022</td><td>49.5</td><td>1.444</td><td>11.645</td><td>0.164</td><td>6.6</td><td>1.042</td><td>9.281</td><td>--</td><td>-0.1</td><td>1.001</td><td>1</td><td>0</td><td>0.0</td><td>0.0</td><td>0.0</td><td>0.0</td><td>22</td><td>32</td><td>-51</td><td>32</td><td>0000</td><td>0</td><td>00nn</td><td>AABU</td><td>0000</td><td>33</td><td>33</td><td>33</td><td>33</td><td>1</td><td>24</td><td>0</td><td>24</td><td>295.110976</td><td>165.731516</td></tr>\n",
       "<tr><td>J004219.60+431625.3</td><td>10.5816771</td><td>43.2737016</td><td>00h42m19.60s</td><td>43d16m25.33s</td><td>0.6006</td><td>0.6148</td><td>-0.1928</td><td>18.329</td><td>0.32</td><td>3.4</td><td>1.017</td><td>16.363</td><td>0.209</td><td>5.2</td><td>0.8559</td><td>12.855</td><td>--</td><td>-0.3</td><td>0.8522</td><td>9.335</td><td>--</td><td>-1.9</td><td>1.014</td><td>1</td><td>0</td><td>0.0</td><td>0.0</td><td>0.0</td><td>0.0</td><td>1612</td><td>1952</td><td>-481</td><td>1985</td><td>Dd00</td><td>0</td><td>nnnn</td><td>BBUU</td><td>0000</td><td>2</td><td>29</td><td>1</td><td>29</td><td>0</td><td>21</td><td>0</td><td>22</td><td>270.797083</td><td>273.57307</td></tr>\n",
       "<tr><td>J004230.96+431545.0</td><td>10.629029</td><td>43.2625006</td><td>00h42m30.97s</td><td>43d15m45.00s</td><td>0.169</td><td>0.1652</td><td>-0.0407</td><td>16.185</td><td>0.059</td><td>18.3</td><td>0.8974</td><td>15.734</td><td>0.137</td><td>7.9</td><td>0.806</td><td>12.544</td><td>0.437</td><td>2.5</td><td>0.8767</td><td>8.809</td><td>--</td><td>0.9</td><td>0.9038</td><td>1</td><td>0</td><td>0.0</td><td>0.0</td><td>0.0</td><td>0.0</td><td>612</td><td>430</td><td>-1014</td><td>421</td><td>0000</td><td>0</td><td>0nnn</td><td>ABCU</td><td>0000</td><td>22</td><td>28</td><td>3</td><td>28</td><td>0</td><td>21</td><td>0</td><td>21</td><td>148.070071</td><td>260.842542</td></tr>\n",
       "<tr><td>J004258.22+431928.4</td><td>10.7426175</td><td>43.3245706</td><td>00h42m58.23s</td><td>43d19m28.45s</td><td>0.4457</td><td>0.4574</td><td>-0.0683</td><td>17.382</td><td>0.142</td><td>7.7</td><td>1.016</td><td>17.004</td><td>0.383</td><td>2.8</td><td>1.008</td><td>12.608</td><td>--</td><td>0.6</td><td>1.062</td><td>9.414</td><td>--</td><td>-1.1</td><td>1.003</td><td>1</td><td>0</td><td>0.0</td><td>0.0</td><td>0.0</td><td>0.0</td><td>-1097</td><td>1546</td><td>-376</td><td>1540</td><td>0000</td><td>0</td><td>nnnn</td><td>BCUU</td><td>0000</td><td>3</td><td>31</td><td>0</td><td>31</td><td>0</td><td>23</td><td>0</td><td>23</td><td>250.782894</td><td>37.149151</td></tr>\n",
       "<tr><td>J004251.17+431207.3</td><td>10.7132166</td><td>43.2020458</td><td>00h42m51.17s</td><td>43d12m07.36s</td><td>0.2357</td><td>0.2367</td><td>-0.0672</td><td>16.713</td><td>0.083</td><td>13.1</td><td>1.163</td><td>16.158</td><td>0.171</td><td>6.3</td><td>0.9165</td><td>12.947</td><td>--</td><td>0.1</td><td>1.024</td><td>9.139</td><td>0.444</td><td>2.4</td><td>0.9748</td><td>1</td><td>0</td><td>0.0</td><td>0.0</td><td>0.0</td><td>0.0</td><td>-736</td><td>597</td><td>-1230</td><td>607</td><td>0000</td><td>0</td><td>0nnn</td><td>ABUC</td><td>0000</td><td>14</td><td>33</td><td>2</td><td>33</td><td>0</td><td>23</td><td>1</td><td>24</td><td>252.508829</td><td>162.817059</td></tr>\n",
       "<tr><td>J004220.71+431436.3</td><td>10.5863176</td><td>43.2434349</td><td>00h42m20.72s</td><td>43d14m36.37s</td><td>0.4467</td><td>0.4406</td><td>-0.1224</td><td>17.41</td><td>0.146</td><td>7.5</td><td>1.018</td><td>17.123</td><td>0.407</td><td>2.7</td><td>0.9979</td><td>12.534</td><td>--</td><td>0.8</td><td>0.9456</td><td>9.183</td><td>--</td><td>-0.5</td><td>0.9968</td><td>1</td><td>0</td><td>0.0</td><td>0.0</td><td>0.0</td><td>0.0</td><td>-925</td><td>1495</td><td>650</td><td>1460</td><td>0000</td><td>0</td><td>nnnn</td><td>BCUU</td><td>0000</td><td>6</td><td>29</td><td>0</td><td>29</td><td>0</td><td>22</td><td>0</td><td>22</td><td>274.167463</td><td>250.371519</td></tr>\n",
       "</table>"
      ],
      "text/plain": [
       "<Table masked=True length=406>\n",
       "    designation         ra        dec     ...  w4m     dist      angle   \n",
       "                       deg        deg     ...         arcsec      deg    \n",
       "       str19         float64    float64   ... int64  float64    float64  \n",
       "------------------- ---------- ---------- ... ----- ---------- ----------\n",
       "J004257.35+431858.6 10.7389712 43.3162987 ...    23 221.530791  39.837615\n",
       "J004238.98+431439.6 10.6624404 43.2443597 ...    22 106.492219 213.391746\n",
       "J004240.16+431339.6 10.6673352 43.2276844 ...    22 155.825689 197.087145\n",
       "J004232.69+431546.9 10.6362297 43.2630482 ...    21 129.124775 260.367809\n",
       "J004234.13+431233.9 10.6422152 43.2094264 ...    22 241.981628 207.493745\n",
       "J004230.18+431830.4 10.6257535  43.308471 ...    25 209.911596 312.544444\n",
       "J004246.93+431619.6 10.6955469 43.2721372 ...    23   30.29461  68.547309\n",
       "J004259.38+431313.3 10.7474546 43.2203709 ...    24 240.265406 136.825511\n",
       "J004241.48+431639.5 10.6728514 43.2776567 ...    22  44.011522 314.686966\n",
       "                ...        ...        ... ...   ...        ...        ...\n",
       "J004249.92+431809.8 10.7080002 43.3027403 ...    24 135.650091  26.632601\n",
       "J004222.86+431421.0 10.5952656 43.2391819 ...    22 258.199926 245.411766\n",
       "J004240.71+431823.9 10.6696543 43.3066571 ...    24  141.04138  343.67236\n",
       "J004229.32+431923.4 10.6221865 43.3231852 ...    26 254.701391 319.929901\n",
       "J004251.00+431122.5 10.7125013 43.1896102 ...    24 295.110976 165.731516\n",
       "J004219.60+431625.3 10.5816771 43.2737016 ...    22 270.797083  273.57307\n",
       "J004230.96+431545.0  10.629029 43.2625006 ...    21 148.070071 260.842542\n",
       "J004258.22+431928.4 10.7426175 43.3245706 ...    23 250.782894  37.149151\n",
       "J004251.17+431207.3 10.7132166 43.2020458 ...    24 252.508829 162.817059\n",
       "J004220.71+431436.3 10.5863176 43.2434349 ...    22 274.167463 250.371519"
      ]
     },
     "execution_count": 16,
     "metadata": {},
     "output_type": "execute_result"
    }
   ],
   "source": [
    "mytable"
   ]
  },
  {
   "cell_type": "markdown",
   "metadata": {
    "collapsed": true
   },
   "source": [
    "If a path or URL is given to ImageViewer, it will read in the specified image instead of querying an archive."
   ]
  },
  {
   "cell_type": "code",
   "execution_count": 17,
   "metadata": {
    "collapsed": true
   },
   "outputs": [],
   "source": [
    "mypath = ('http://web.ipac.caltech.edu/staff/roby/demo/wise-m51-band4.fits')\n",
    "fv = ImageViewer(url=mypath, GridOn=False,\n",
    "                 layout=ipywidgets.Layout(width='400px', height='400px'))"
   ]
  },
  {
   "cell_type": "code",
   "execution_count": 18,
   "metadata": {},
   "outputs": [
    {
     "data": {
      "application/vnd.jupyter.widget-view+json": {
       "model_id": "2648023dcb4c4e84adbbbe038247c408"
      }
     },
     "metadata": {},
     "output_type": "display_data"
    }
   ],
   "source": [
    "fv"
   ]
  },
  {
   "cell_type": "code",
   "execution_count": 19,
   "metadata": {
    "collapsed": true
   },
   "outputs": [],
   "source": [
    "fv.colorbar = 9"
   ]
  },
  {
   "cell_type": "code",
   "execution_count": 20,
   "metadata": {},
   "outputs": [
    {
     "data": {
      "text/plain": [
       "9"
      ]
     },
     "execution_count": 20,
     "metadata": {},
     "output_type": "execute_result"
    }
   ],
   "source": [
    "fv.colorbar"
   ]
  },
  {
   "cell_type": "markdown",
   "metadata": {
    "collapsed": true
   },
   "source": [
    "If a path or URL is given to TableViewer, it will read in the specified table instead of querying an archive."
   ]
  },
  {
   "cell_type": "code",
   "execution_count": 28,
   "metadata": {
    "collapsed": true
   },
   "outputs": [],
   "source": [
    "dtv = TableViewer(url_or_path='http://web.ipac.caltech.edu/staff/roby/demo/WiseDemoTable.tbl',\n",
    "                 layout=ipywidgets.Layout(width='80%', height='400px'))"
   ]
  },
  {
   "cell_type": "code",
   "execution_count": 29,
   "metadata": {},
   "outputs": [
    {
     "data": {
      "application/vnd.jupyter.widget-view+json": {
       "model_id": "65eacc9e28d844149847bb8fab48f927"
      }
     },
     "metadata": {},
     "output_type": "display_data"
    }
   ],
   "source": [
    "dtv"
   ]
  },
  {
   "cell_type": "code",
   "execution_count": 30,
   "metadata": {},
   "outputs": [
    {
     "data": {
      "text/plain": [
       "''"
      ]
     },
     "execution_count": 30,
     "metadata": {},
     "output_type": "execute_result"
    }
   ],
   "source": [
    "dtv.filters"
   ]
  },
  {
   "cell_type": "code",
   "execution_count": null,
   "metadata": {
    "collapsed": true
   },
   "outputs": [],
   "source": []
  }
 ],
 "metadata": {
  "anaconda-cloud": {},
  "kernelspec": {
   "display_name": "Python 3",
   "language": "python",
   "name": "python3"
  },
  "language_info": {
   "codemirror_mode": {
    "name": "ipython",
    "version": 3
   },
   "file_extension": ".py",
   "mimetype": "text/x-python",
   "name": "python",
   "nbconvert_exporter": "python",
   "pygments_lexer": "ipython3",
   "version": "3.6.1"
  },
  "widgets": {
   "state": {
    "2e2b69c45db34cac879e7dba5e31e402": {
     "views": []
    },
    "978cd1e12aac42328075de45c48d11ac": {
     "views": [
      {
       "cell_index": 17
      }
     ]
    },
    "ac4390da62234430b150936898eb2448": {
     "views": [
      {
       "cell_index": 7
      }
     ]
    },
    "e585f110792c405fa2c3fdfc0c6066a1": {
     "views": []
    }
   },
   "version": "1.1.1"
  }
 },
 "nbformat": 4,
 "nbformat_minor": 1
}
